{
 "cells": [
  {
   "cell_type": "markdown",
   "metadata": {
    "id": "gOOGqT_NnVaG"
   },
   "source": [
    "## Setup:\n",
    "\n",
    "\n",
    "*   Installs openai\n",
    "*   Makes relevant imports\n",
    "*   Retrieves openai API key\n",
    "*   Records json format for subsequent structured outputs"
   ]
  },
  {
   "cell_type": "code",
   "execution_count": null,
   "metadata": {
    "colab": {
     "base_uri": "https://localhost:8080/"
    },
    "executionInfo": {
     "elapsed": 15442,
     "status": "ok",
     "timestamp": 1755535252901,
     "user": {
      "displayName": "Madeleine Woods",
      "userId": "13804076805150168594"
     },
     "user_tz": 240
    },
    "id": "TkGHLPuy98mZ",
    "outputId": "aee9df34-a5e0-47d7-a308-dbc6bcc37064"
   },
   "outputs": [],
   "source": [
    "!pip install openai"
   ]
  },
  {
   "cell_type": "code",
   "execution_count": null,
   "metadata": {
    "id": "WnxY9o_G9-b7"
   },
   "outputs": [],
   "source": [
    "import openai\n",
    "from openai import OpenAI\n",
    "import json\n",
    "\n",
    "from pydantic import BaseModel\n",
    "\n",
    "from google.colab import userdata\n",
    "openai.api_key = userdata.get(\"OPENAI_API_KEY\")\n",
    "\n",
    "\n",
    "class output(BaseModel):\n",
    "  translationtext: str\n",
    "  extracommentary: str"
   ]
  },
  {
   "cell_type": "markdown",
   "metadata": {
    "id": "LKqAcUxtnYJn"
   },
   "source": [
    "## Hardcoding input texts"
   ]
  },
  {
   "cell_type": "code",
   "execution_count": null,
   "metadata": {
    "id": "uWpYGMehzcYq"
   },
   "outputs": [],
   "source": [
    "confucius = \"\"\"\n",
    "子曰：「學而時習之，不亦說乎？有朋自遠方來，不亦樂乎？人不知而不慍，不亦君子乎？\n",
    "\"\"\"\n",
    "\n",
    "wittgenstein = \"\"\" 1\n",
    "Die Welt ist alles, was der Fall ist.\n",
    "1.1\n",
    "Die Welt ist die Gesamtheit der Tatsachen, nicht der Dinge.\n",
    "1.11\n",
    "Die Welt ist durch die Tatsachen bestimmt und dadurch, dass es alle Tatsachen sind.\n",
    "1.12\n",
    "Denn, die Gesamtheit der Tatsachen bestimmt, was der Fall ist und auch, was alles nicht der Fall ist.\n",
    "1.13\n",
    "Die Tatsachen im logischen Raum sind die Welt.\"\"\"\n",
    "\n",
    "hyungdo = \"\"\"엄마 걱정\n",
    "기형도\n",
    "열무 삼십 단을 이고\n",
    "시장에 간 우리 엄마\n",
    "안 오시네, 해는 시든 지 오래\n",
    "나는 찬밥처럼 방에 담겨\n",
    "아무리 천천히 숙제를 해도\n",
    "엄마 안 오시네, 배춧잎 같은 발소리 타박타박\n",
    "안 들리네, 어둡고 무서워\n",
    "금간 창 틈으로 고요히 빗소리\n",
    "빈 방에 혼자 엎드려 훌쩍거리던\n",
    "아주 먼 옛날\n",
    "지금도 내 눈시울을 뜨겁게 하는\n",
    "그 시절, 내 유년의 윗목 \"\"\"\n",
    "\n",
    "leopardi = \"\"\" O graziosa luna, io mi rammento\n",
    "Che, or volge l’anno, sovra questo colle\n",
    "Io venia pien d’angoscia a rimirarti:\n",
    "E tu pendevi allor su quella selva\n",
    "Siccome or fai, che tutta la rischiari.\n",
    "Ma nebuloso e tremulo dal pianto\n",
    "Che mi sorgea sul ciglio, alle mie luci\n",
    "Il tuo volto apparia, che travagliosa\n",
    "Era mia vita: ed è, nè cangia stile,\n",
    "O mia diletta luna. E pur mi giova\n",
    "La ricordanza, e il noverar l’etate\n",
    "Del mio dolore. Oh come grato occorre\n",
    "Nel tempo giovanil, quando ancor lungo\n",
    "La speme e breve ha la memoria il corso,\n",
    "Il rimembrar delle passate cose,\n",
    "Ancor che triste, e che l’affanno duri! \"\"\""
   ]
  },
  {
   "cell_type": "markdown",
   "metadata": {
    "id": "KxJaW4E_nebS"
   },
   "source": [
    "## Translation function definition"
   ]
  },
  {
   "cell_type": "code",
   "execution_count": null,
   "metadata": {
    "id": "BGoi0MMQ-PSB"
   },
   "outputs": [],
   "source": [
    "client = OpenAI(api_key=openai.api_key)\n",
    "\n",
    "def defaulttranslate(output_lang: str, input_text: str) -> str:\n",
    "    \"\"\"\n",
    "    Translate `input_text` into `output_lang.`\n",
    "    Returns the translated string.\n",
    "    \"\"\"\n",
    "    resp = client.responses.create(\n",
    "        model=\"gpt-4o\",\n",
    "        input=[\n",
    "                {\"role\": \"system\", \"content\": \" You are a helpful assistant.\"},\n",
    "                {\"role\": \"user\", \"content\": f\"Translate the following text to {output_lang}. Text: {input_text}.\" },\n",
    "            ],\n",
    "    )\n",
    "    return resp.output_text.strip()"
   ]
  },
  {
   "cell_type": "markdown",
   "metadata": {
    "id": "tyYuprc_nxUd"
   },
   "source": [
    "## Carry out game of telephone\n",
    "\n",
    "\n",
    "*   Translate into each language, in order.\n",
    "\n"
   ]
  },
  {
   "cell_type": "code",
   "execution_count": null,
   "metadata": {
    "colab": {
     "base_uri": "https://localhost:8080/"
    },
    "executionInfo": {
     "elapsed": 8582,
     "status": "ok",
     "timestamp": 1755535288992,
     "user": {
      "displayName": "Madeleine Woods",
      "userId": "13804076805150168594"
     },
     "user_tz": 240
    },
    "id": "qPSVlnDf_RU_",
    "outputId": "00b1b533-c785-4f69-ffe3-bca65df10078"
   },
   "outputs": [],
   "source": [
    "input = confucius\n",
    "text0 = defaulttranslate(\"korean\", input)\n",
    "print(text0)\n",
    "text1 = defaulttranslate(\"french\", text0)\n",
    "print(text1)\n",
    "text2 = defaulttranslate(\"italian\", text1)\n",
    "print(text2)\n",
    "text3 = defaulttranslate(\"english\", text2)\n",
    "print(text3)"
   ]
  }
 ],
 "metadata": {
  "colab": {
   "provenance": [
    {
     "file_id": "14GWgq0-yBVrJk4meQvlyf6jkqfnXEXl-",
     "timestamp": 1750771778335
    },
    {
     "file_id": "1nQAQ6m9MdZdmgTsNGaCICSEJEma1KAFd",
     "timestamp": 1730929168427
    }
   ]
  },
  "kernelspec": {
   "display_name": "Python 3",
   "name": "python3"
  },
  "language_info": {
   "name": "python"
  }
 },
 "nbformat": 4,
 "nbformat_minor": 0
}
