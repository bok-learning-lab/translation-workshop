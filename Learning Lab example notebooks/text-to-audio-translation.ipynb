{
 "cells": [
  {
   "cell_type": "markdown",
   "metadata": {
    "id": "g6NeYVCF7OMP"
   },
   "source": [
    "## Setup\n",
    "\n",
    "\n",
    "*   Perform imports and installs\n",
    "*   Retrieve OpenAI API key\n",
    "*   Define JSON format for output of translation text completion\n",
    "\n"
   ]
  },
  {
   "cell_type": "code",
   "execution_count": null,
   "metadata": {
    "colab": {
     "base_uri": "https://localhost:8080/"
    },
    "executionInfo": {
     "elapsed": 11571,
     "status": "ok",
     "timestamp": 1755535323118,
     "user": {
      "displayName": "Madeleine Woods",
      "userId": "13804076805150168594"
     },
     "user_tz": 240
    },
    "id": "bGsGEclV9jpW",
    "outputId": "4dd89366-ecfb-4242-e79a-1a491cbf49c7"
   },
   "outputs": [],
   "source": [
    "!pip install openai"
   ]
  },
  {
   "cell_type": "code",
   "execution_count": null,
   "metadata": {
    "colab": {
     "base_uri": "https://localhost:8080/"
    },
    "executionInfo": {
     "elapsed": 21889,
     "status": "ok",
     "timestamp": 1755535350149,
     "user": {
      "displayName": "Madeleine Woods",
      "userId": "13804076805150168594"
     },
     "user_tz": 240
    },
    "id": "u4xhka_v9qyJ",
    "outputId": "456795fd-a32e-49b5-8350-1d03ccbc4cca"
   },
   "outputs": [],
   "source": [
    "import openai, textwrap, base64, io, json, shutil\n",
    "\n",
    "from openai import OpenAI\n",
    "from pydantic import BaseModel\n",
    "from IPython.display import Audio, display\n",
    "from pathlib import Path\n",
    "from datetime import datetime\n",
    "\n",
    "from google.colab import drive\n",
    "drive.mount('/content/gdrive')\n",
    "\n",
    "from google.colab import userdata\n",
    "openai.api_key = userdata.get(\"OPENAI_API_KEY\")"
   ]
  },
  {
   "cell_type": "code",
   "execution_count": null,
   "metadata": {
    "id": "iLYxYXjEioYa"
   },
   "outputs": [],
   "source": [
    "import os\n",
    "\n",
    "output_folder_text = Path(\"/content/gdrive/Shareddrives/LL_CENTRAL/LL_PROJECTS/24.1/COLAB/ll_color_colabs/_ai_lab/utilities/output_folder/text\")\n",
    "output_folder_audio = Path(\"/content/gdrive/Shareddrives/LL_CENTRAL/LL_PROJECTS/24.1/COLAB/ll_color_colabs/_ai_lab/utilities/output_folder/audio\")\n",
    "\n",
    "\n",
    "class output(BaseModel):\n",
    "  text: str"
   ]
  },
  {
   "cell_type": "markdown",
   "metadata": {
    "id": "InKRWiDl742t"
   },
   "source": [
    "## Translation\n",
    "* define translation function\n",
    "* define variables containing each author's text\n",
    "* run function and print results"
   ]
  },
  {
   "cell_type": "code",
   "execution_count": null,
   "metadata": {
    "id": "HJVrvF2W9b1q"
   },
   "outputs": [],
   "source": [
    "client = OpenAI(api_key=openai.api_key)\n",
    "\n",
    "_stamp = lambda: datetime.now().strftime(\"%Y%m%d_%H%M%S\")\n",
    "\n",
    "def translate(target_lang: str,\n",
    "                   source_text: str,\n",
    "                   system_prompt: str = \"\",\n",
    "                   model: str = \"gpt-4o-2024-08-06\",\n",
    "                   wrap: int = 80) -> str:\n",
    "    \"\"\"Translate text and save .txt to output_folder.\"\"\"\n",
    "    resp = client.responses.create(\n",
    "        model=model,\n",
    "        input=[\n",
    "            {\"role\": \"system\", \"content\": system_prompt},\n",
    "            {\"role\": \"user\",\n",
    "             \"content\": f\"Translate the following text into {target_lang}:\\n\\n{source_text}\"},\n",
    "        ],\n",
    "    )\n",
    "    translated = resp.output[0].content[0].text.strip()\n",
    "\n",
    "    file_name = f\"{_stamp()}_{target_lang}.txt\"\n",
    "    text_file_path = output_folder_text / file_name\n",
    "    text_file_path.write_text(\n",
    "        textwrap.fill(translated, width=wrap), encoding=\"utf-8\"\n",
    "    )\n",
    "    print(f\"Saved translation → {text_file_path}\")\n",
    "\n",
    "    return translated\n",
    "\n",
    "\n",
    "def speak_the_text(tts_text: str,\n",
    "                   model: str = \"tts-1\",\n",
    "                   voice: str = \"alloy\") -> None:\n",
    "    \"\"\"Stream TTS to MP3 in output_folder_audio and autoplay.\"\"\"\n",
    "    local_file_path = Path(f\"/tmp/speech_{_stamp()}.mp3\")\n",
    "    drive_file_path = output_folder_audio / local_file_path.name\n",
    "\n",
    "    with client.audio.speech.with_streaming_response.create(\n",
    "        model=model,\n",
    "        voice=voice,\n",
    "        input=tts_text\n",
    "    ) as resp:\n",
    "        resp.stream_to_file(local_file_path)\n",
    "\n",
    "    if local_file_path.exists():\n",
    "        shutil.copy(local_file_path, drive_file_path)\n",
    "        display(Audio(str(drive_file_path), autoplay=True))\n",
    "        print(f\"Audio saved → {drive_file_path}\")\n",
    "        local_file_path.unlink() # Clean up the temporary file"
   ]
  },
  {
   "cell_type": "markdown",
   "metadata": {
    "id": "7IGY7WB41csf"
   },
   "source": []
  },
  {
   "cell_type": "code",
   "execution_count": null,
   "metadata": {
    "id": "UpRJKURG-ECu"
   },
   "outputs": [],
   "source": [
    "hyungdo = \"\"\"엄마 걱정\n",
    "기형도\n",
    "열무 삼십 단을 이고\n",
    "시장에 간 우리 엄마\n",
    "안 오시네, 해는 시든 지 오래\n",
    "나는 찬밥처럼 방에 담겨\n",
    "아무리 천천히 숙제를 해도\n",
    "엄마 안 오시네, 배춧잎 같은 발소리 타박타박\n",
    "안 들리네, 어둡고 무서워\n",
    "금간 창 틈으로 고요히 빗소리\n",
    "빈 방에 혼자 엎드려 훌쩍거리던\n",
    "아주 먼 옛날\n",
    "지금도 내 눈시울을 뜨겁게 하는\n",
    "그 시절, 내 유년의 윗목\"\"\"\n",
    "\n",
    "wittgenstein = \"\"\"\n",
    "Tractatus 1–1.13\n",
    "1\n",
    "Die Welt ist alles, was der Fall ist.\n",
    "1.1\n",
    "Die Welt ist die Gesamtheit der Tatsachen, nicht der Dinge.\n",
    "1.11\n",
    "Die Welt ist durch die Tatsachen bestimmt und dadurch, dass es alle Tatsachen sind.\n",
    "1.12\n",
    "Denn, die Gesamtheit der Tatsachen bestimmt, was der Fall ist und auch, was alles nicht der Fall ist.\n",
    "1.13\n",
    "Die Tatsachen im logischen Raum sind die Welt.\n",
    "\"\"\"\n",
    "\n",
    "leopardi = \"\"\"\n",
    "Giacomo Leopardi, \"Alla luna\" (Canti 14)\n",
    "\n",
    "O graziosa luna, io mi rammento\n",
    "Che, or volge l’anno, sovra questo colle\n",
    "Io venia pien d’angoscia a rimirarti:\n",
    "E tu pendevi allor su quella selva\n",
    "Siccome or fai, che tutta la rischiari.\n",
    "Ma nebuloso e tremulo dal pianto\n",
    "Che mi sorgea sul ciglio, alle mie luci\n",
    "Il tuo volto apparia, che travagliosa\n",
    "Era mia vita: ed è, nè cangia stile,\n",
    "O mia diletta luna. E pur mi giova\n",
    "La ricordanza, e il noverar l’etate\n",
    "Del mio dolore. Oh come grato occorre\n",
    "Nel tempo giovanil, quando ancor lungo\n",
    "La speme e breve ha la memoria il corso,\n",
    "Il rimembrar delle passate cose,\n",
    "Ancor che triste, e che l’affanno duri!\n",
    "\n",
    "\"\"\"\n",
    "\n",
    "confucius = \"\"\"\n",
    "子曰：「學而時習之，不亦說乎？有朋自遠方來，不亦樂乎？人不知而不慍，不亦君子乎？」\n",
    "\"\"\""
   ]
  },
  {
   "cell_type": "code",
   "execution_count": null,
   "metadata": {
    "colab": {
     "base_uri": "https://localhost:8080/",
     "height": 1000
    },
    "executionInfo": {
     "elapsed": 33674,
     "status": "ok",
     "timestamp": 1755535579389,
     "user": {
      "displayName": "Madeleine Woods",
      "userId": "13804076805150168594"
     },
     "user_tz": 240
    },
    "id": "JnUp9AIXAz1G",
    "outputId": "c49cf5d4-0919-44e6-a8c6-bbc37c0fe651"
   },
   "outputs": [],
   "source": [
    "english_wittgenstein = translate(\n",
    "    \"English\", wittgenstein,\n",
    "    \"You can speak every language as a native perfectly.\"\n",
    ")\n",
    "print(\"\\n— Wittgenstein → English —\\n\", english_wittgenstein)\n",
    "\n",
    "english_hyungdo = translate(\n",
    "    \"English\", hyungdo,\n",
    "    \"You can speak every language as a native perfectly.\"\n",
    ")\n",
    "print(\"\\n— Hyungdo → English —\\n\", english_hyungdo)\n",
    "speak_the_text(english_hyungdo)\n",
    "\n",
    "german_leopardi = translate(\n",
    "    \"German\", leopardi,\n",
    "    \"You can speak every language as a native perfectly.\"\n",
    ")\n",
    "print(\"\\n— Leopardi → German —\\n\", german_leopardi)\n",
    "speak_the_text(german_leopardi)"
   ]
  }
 ],
 "metadata": {
  "colab": {
   "provenance": [
    {
     "file_id": "1s7KSYxIwE0yY9T4QoHtRzHs3JTg_YPan",
     "timestamp": 1750771724083
    },
    {
     "file_id": "1jWWC0n5GkQC0qaK49g9KTjskcxHErRoG",
     "timestamp": 1730831028645
    }
   ]
  },
  "kernelspec": {
   "display_name": "Python 3",
   "name": "python3"
  },
  "language_info": {
   "name": "python"
  }
 },
 "nbformat": 4,
 "nbformat_minor": 0
}
