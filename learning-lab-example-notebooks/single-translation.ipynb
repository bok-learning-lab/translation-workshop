{
 "cells": [
  {
   "cell_type": "markdown",
   "metadata": {
    "id": "g6NeYVCF7OMP"
   },
   "source": [
    "## Setup\n",
    "\n",
    "\n",
    "*   Perform imports and installs\n",
    "*   Retrieve OpenAI API key\n",
    "*   Define JSON format for output of translation text completion\n",
    "\n"
   ]
  },
  {
   "cell_type": "code",
   "execution_count": null,
   "metadata": {
    "colab": {
     "base_uri": "https://localhost:8080/"
    },
    "executionInfo": {
     "elapsed": 12495,
     "status": "ok",
     "timestamp": 1755535189776,
     "user": {
      "displayName": "Madeleine Woods",
      "userId": "13804076805150168594"
     },
     "user_tz": 240
    },
    "id": "bGsGEclV9jpW",
    "outputId": "78447288-058b-46dd-b32d-dd403ce8bac2"
   },
   "outputs": [],
   "source": [
    "!pip install openai"
   ]
  },
  {
   "cell_type": "code",
   "execution_count": null,
   "metadata": {
    "id": "u4xhka_v9qyJ"
   },
   "outputs": [],
   "source": [
    "import openai, json\n",
    "from openai import OpenAI\n",
    "from pydantic import BaseModel\n",
    "\n",
    "from google.colab import userdata\n",
    "openai.api_key = userdata.get(\"OPENAI_API_KEY\")\n",
    "\n",
    "class output(BaseModel):\n",
    "  text: str"
   ]
  },
  {
   "cell_type": "markdown",
   "metadata": {
    "id": "3yitSUOD7YHY"
   },
   "source": [
    "## Take user input\n",
    "\n",
    "\n",
    "*   Text to translate and output language is hardcoded\n",
    "\n"
   ]
  },
  {
   "cell_type": "code",
   "execution_count": null,
   "metadata": {
    "id": "UpRJKURG-ECu"
   },
   "outputs": [],
   "source": [
    "inputtext = \"\"\"엄마 걱정\n",
    "기형도\n",
    "열무 삼십 단을 이고\n",
    "시장에 간 우리 엄마\n",
    "안 오시네, 해는 시든 지 오래\n",
    "나는 찬밥처럼 방에 담겨\n",
    "아무리 천천히 숙제를 해도\n",
    "엄마 안 오시네, 배춧잎 같은 발소리 타박타박\n",
    "안 들리네, 어둡고 무서워\n",
    "금간 창 틈으로 고요히 빗소리\n",
    "빈 방에 혼자 엎드려 훌쩍거리던\n",
    "아주 먼 옛날\n",
    "지금도 내 눈시울을 뜨겁게 하는\n",
    "그 시절, 내 유년의 윗목\"\"\"\n",
    "\n",
    "outputlanguage = \"English\"\n",
    "\n",
    "system_prompt = \"You are a native speaker, who pays attention to translational nuance.\""
   ]
  },
  {
   "cell_type": "markdown",
   "metadata": {
    "id": "InKRWiDl742t"
   },
   "source": [
    "## Translation via text completion\n",
    "* Perform text completion\n",
    "* Print results"
   ]
  },
  {
   "cell_type": "code",
   "execution_count": null,
   "metadata": {
    "colab": {
     "base_uri": "https://localhost:8080/"
    },
    "executionInfo": {
     "elapsed": 5333,
     "status": "ok",
     "timestamp": 1755535206176,
     "user": {
      "displayName": "Madeleine Woods",
      "userId": "13804076805150168594"
     },
     "user_tz": 240
    },
    "id": "HJVrvF2W9b1q",
    "outputId": "29d2389e-6767-4cad-d493-c36a28f76b01"
   },
   "outputs": [],
   "source": [
    "client = OpenAI(api_key=openai.api_key)\n",
    "\n",
    "def translatebasic(outputlang, inputtext, systemprompt):\n",
    "    response = client.responses.create(\n",
    "        model=\"gpt-4.1\",\n",
    "        input=f\"Translate the following text to {outputlang}, keeping in mind the following instructions: {systemprompt}. Text: {inputtext}. ONLY RETURN THE TRANSLATION. ONLY THE TEXT-- do not thank me or ask questions- only text.\",\n",
    "    )\n",
    "    final = response.output_text\n",
    "    return(final)\n",
    "\n",
    "translated_text = translatebasic(outputlanguage, inputtext, system_prompt)\n",
    "print(translated_text)"
   ]
  }
 ],
 "metadata": {
  "colab": {
   "provenance": [
    {
     "file_id": "1qH5VSBHCZ40mDmmsMA16HBdH5VFrG421",
     "timestamp": 1750771471203
    },
    {
     "file_id": "1jWWC0n5GkQC0qaK49g9KTjskcxHErRoG",
     "timestamp": 1730831028645
    }
   ]
  },
  "kernelspec": {
   "display_name": "Python 3",
   "name": "python3"
  },
  "language_info": {
   "name": "python"
  }
 },
 "nbformat": 4,
 "nbformat_minor": 0
}
