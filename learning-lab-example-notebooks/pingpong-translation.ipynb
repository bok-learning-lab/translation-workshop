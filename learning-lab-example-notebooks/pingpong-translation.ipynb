{
 "cells": [
  {
   "cell_type": "markdown",
   "metadata": {
    "id": "A3moIhZ73MNJ"
   },
   "source": [
    "## Perform installs and imports\n",
    "\n",
    "\n",
    "*   Specify json schema for text completion outputs.\n"
   ]
  },
  {
   "cell_type": "code",
   "execution_count": null,
   "metadata": {
    "colab": {
     "base_uri": "https://localhost:8080/"
    },
    "executionInfo": {
     "elapsed": 14906,
     "status": "ok",
     "timestamp": 1761681168233,
     "user": {
      "displayName": "cata comb",
      "userId": "04951553019503499362"
     },
     "user_tz": 240
    },
    "id": "TkGHLPuy98mZ",
    "outputId": "ba47fe66-160f-4e93-f5a8-12d315827071"
   },
   "outputs": [],
   "source": [
    "!pip install openai pyairtable"
   ]
  },
  {
   "cell_type": "code",
   "execution_count": null,
   "metadata": {
    "executionInfo": {
     "elapsed": 4928,
     "status": "ok",
     "timestamp": 1761681546145,
     "user": {
      "displayName": "cata comb",
      "userId": "04951553019503499362"
     },
     "user_tz": 240
    },
    "id": "WnxY9o_G9-b7"
   },
   "outputs": [],
   "source": [
    "import openai, json\n",
    "from openai import OpenAI\n",
    "from pydantic import BaseModel\n",
    "\n",
    "from google.colab import userdata\n",
    "openai.api_key = userdata.get(\"OPENAI_API_KEY\")\n",
    "\n",
    "class output(BaseModel):\n",
    "  translationtext: str\n",
    "  extracommentary: str"
   ]
  },
  {
   "cell_type": "code",
   "execution_count": null,
   "metadata": {
    "executionInfo": {
     "elapsed": 40,
     "status": "ok",
     "timestamp": 1761684828117,
     "user": {
      "displayName": "cata comb",
      "userId": "04951553019503499362"
     },
     "user_tz": 240
    },
    "id": "0zIcvVQyl5Xh"
   },
   "outputs": [],
   "source": [
    "import matplotlib.pyplot as plt\n",
    "from IPython.display import display, update_display"
   ]
  },
  {
   "cell_type": "markdown",
   "metadata": {
    "id": "IRzj1B8T3bcI"
   },
   "source": [
    "## Take text to translate"
   ]
  },
  {
   "cell_type": "code",
   "execution_count": null,
   "metadata": {
    "executionInfo": {
     "elapsed": 2,
     "status": "ok",
     "timestamp": 1761682888641,
     "user": {
      "displayName": "cata comb",
      "userId": "04951553019503499362"
     },
     "user_tz": 240
    },
    "id": "vniVNamMd7Y2"
   },
   "outputs": [],
   "source": [
    "confucius = \"\"\"不亦樂乎\n",
    "\"\"\""
   ]
  },
  {
   "cell_type": "code",
   "execution_count": null,
   "metadata": {
    "executionInfo": {
     "elapsed": 5,
     "status": "ok",
     "timestamp": 1761681549247,
     "user": {
      "displayName": "cata comb",
      "userId": "04951553019503499362"
     },
     "user_tz": 240
    },
    "id": "WP9C6MaA0CxO"
   },
   "outputs": [],
   "source": [
    "confucius2 = \"\"\"\n",
    "子曰：「學而時習之，不亦說乎？有朋自遠方來，不亦樂乎？人不知而不慍，不亦君子乎？\n",
    "\"\"\""
   ]
  },
  {
   "cell_type": "code",
   "execution_count": null,
   "metadata": {
    "executionInfo": {
     "elapsed": 2,
     "status": "ok",
     "timestamp": 1761681549251,
     "user": {
      "displayName": "cata comb",
      "userId": "04951553019503499362"
     },
     "user_tz": 240
    },
    "id": "NNj0ONXA0Eb6"
   },
   "outputs": [],
   "source": [
    "hyungdo = \"\"\"엄마 걱정\n",
    "기형도\n",
    "열무 삼십 단을 이고\n",
    "시장에 간 우리 엄마\n",
    "안 오시네, 해는 시든 지 오래\n",
    "나는 찬밥처럼 방에 담겨\n",
    "아무리 천천히 숙제를 해도\n",
    "엄마 안 오시네, 배춧잎 같은 발소리 타박타박\n",
    "안 들리네, 어둡고 무서워\n",
    "금간 창 틈으로 고요히 빗소리\n",
    "빈 방에 혼자 엎드려 훌쩍거리던\n",
    "아주 먼 옛날\n",
    "지금도 내 눈시울을 뜨겁게 하는\n",
    "그 시절, 내 유년의 윗목 \"\"\""
   ]
  },
  {
   "cell_type": "code",
   "execution_count": null,
   "metadata": {
    "executionInfo": {
     "elapsed": 1,
     "status": "ok",
     "timestamp": 1761681549253,
     "user": {
      "displayName": "cata comb",
      "userId": "04951553019503499362"
     },
     "user_tz": 240
    },
    "id": "dj8DhCHO0GGK"
   },
   "outputs": [],
   "source": [
    "leopardi = \"\"\" O graziosa luna, io mi rammento\n",
    "Che, or volge l’anno, sovra questo colle\n",
    "Io venia pien d’angoscia a rimirarti:\n",
    "E tu pendevi allor su quella selva\n",
    "Siccome or fai, che tutta la rischiari.\n",
    "Ma nebuloso e tremulo dal pianto\n",
    "Che mi sorgea sul ciglio, alle mie luci\n",
    "Il tuo volto apparia, che travagliosa\n",
    "Era mia vita: ed è, nè cangia stile,\n",
    "O mia diletta luna. E pur mi giova\n",
    "La ricordanza, e il noverar l’etate\n",
    "Del mio dolore. Oh come grato occorre\n",
    "Nel tempo giovanil, quando ancor lungo\n",
    "La speme e breve ha la memoria il corso,\n",
    "Il rimembrar delle passate cose,\n",
    "Ancor che triste, e che l’affanno duri! \"\"\""
   ]
  },
  {
   "cell_type": "code",
   "execution_count": null,
   "metadata": {
    "executionInfo": {
     "elapsed": 1,
     "status": "ok",
     "timestamp": 1761681549256,
     "user": {
      "displayName": "cata comb",
      "userId": "04951553019503499362"
     },
     "user_tz": 240
    },
    "id": "c2pkpdL4-K4S"
   },
   "outputs": [],
   "source": [
    "wittgenstein = \"\"\" 1\n",
    "Die Welt ist alles, was der Fall ist.\n",
    "Die Welt ist die Gesamtheit der Tatsachen, nicht der Dinge.\n",
    "Die Welt ist durch die Tatsachen bestimmt und dadurch, dass es alle Tatsachen sind.\n",
    "Denn, die Gesamtheit der Tatsachen bestimmt, was der Fall ist und auch, was alles nicht der Fall ist.\n",
    "Die Tatsachen im logischen Raum sind die Welt.\"\"\""
   ]
  },
  {
   "cell_type": "markdown",
   "metadata": {
    "id": "imSF337n3lL1"
   },
   "source": [
    "## Define functions to carry out \"ping pong\"\n",
    "\n",
    "\n",
    "*   First function: text completion that carries out a \"free\" translation; no specified elements of the text to take into account.\n",
    "*   Second and third functios: recto and verso; carry out translation back and forth between the languages.\n",
    "\n"
   ]
  },
  {
   "cell_type": "code",
   "execution_count": null,
   "metadata": {
    "executionInfo": {
     "elapsed": 78,
     "status": "ok",
     "timestamp": 1761682738043,
     "user": {
      "displayName": "cata comb",
      "userId": "04951553019503499362"
     },
     "user_tz": 240
    },
    "id": "M5MEhnfIeS83"
   },
   "outputs": [],
   "source": [
    "client = OpenAI(api_key=openai.api_key)"
   ]
  },
  {
   "cell_type": "code",
   "execution_count": null,
   "metadata": {
    "executionInfo": {
     "elapsed": 3,
     "status": "ok",
     "timestamp": 1761683236824,
     "user": {
      "displayName": "cata comb",
      "userId": "04951553019503499362"
     },
     "user_tz": 240
    },
    "id": "obbJF4PQe8ai"
   },
   "outputs": [],
   "source": [
    "text0 = \"manger\" # set to one of the passages above, or import your own"
   ]
  },
  {
   "cell_type": "code",
   "execution_count": null,
   "metadata": {
    "executionInfo": {
     "elapsed": 4,
     "status": "ok",
     "timestamp": 1761683595290,
     "user": {
      "displayName": "cata comb",
      "userId": "04951553019503499362"
     },
     "user_tz": 240
    },
    "id": "8MrI1ASKeU3v"
   },
   "outputs": [],
   "source": [
    "def translatebasic(outputlang, inputtext):\n",
    "    response = client.responses.parse(\n",
    "        model=\"o3\",\n",
    "        input=[\n",
    "            {\"role\": \"system\", \"content\": \"You translate strings verbatim. \"},\n",
    "            {\n",
    "                \"role\": \"user\",\n",
    "                \"content\": f\"Translate the following text to {outputlang}. Text: {inputtext}. Just output the text, absolutely nothing before or after. Do not add punctuation to your output. \",\n",
    "            },\n",
    "        ],\n",
    "        text_format=output,\n",
    "    )\n",
    "\n",
    "    final = response.output_parsed.translationtext\n",
    "    return(final)"
   ]
  },
  {
   "cell_type": "markdown",
   "metadata": {
    "id": "xUJ0en0IgGzR"
   },
   "source": [
    "lang 0 is english, lang 1 is french"
   ]
  },
  {
   "cell_type": "code",
   "execution_count": null,
   "metadata": {
    "executionInfo": {
     "elapsed": 8,
     "status": "ok",
     "timestamp": 1761683610195,
     "user": {
      "displayName": "cata comb",
      "userId": "04951553019503499362"
     },
     "user_tz": 240
    },
    "id": "BGoi0MMQ-PSB"
   },
   "outputs": [],
   "source": [
    "def tolang0(text):\n",
    "    res1 = translatebasic(\"english\", text0)\n",
    "    return res1\n",
    "\n",
    "def tolang1(text):\n",
    "    res2 = translatebasic(\"french\", text0)\n",
    "    return res2"
   ]
  },
  {
   "cell_type": "markdown",
   "metadata": {
    "id": "rokd8j8V4J9O"
   },
   "source": [
    "## Carry out \"ping pong\":\n",
    "\n",
    "*  Define number of trials for ping pong (one trial is one back and one forth).\n",
    "*   Carry out use a for loop to test for convergence."
   ]
  },
  {
   "cell_type": "code",
   "execution_count": null,
   "metadata": {
    "executionInfo": {
     "elapsed": 2,
     "status": "ok",
     "timestamp": 1761683616224,
     "user": {
      "displayName": "cata comb",
      "userId": "04951553019503499362"
     },
     "user_tz": 240
    },
    "id": "LF7cajZR-ngE"
   },
   "outputs": [],
   "source": [
    "trials = 50"
   ]
  },
  {
   "cell_type": "code",
   "execution_count": null,
   "metadata": {
    "colab": {
     "base_uri": "https://localhost:8080/",
     "height": 426
    },
    "executionInfo": {
     "elapsed": 57188,
     "status": "error",
     "timestamp": 1761683674230,
     "user": {
      "displayName": "cata comb",
      "userId": "04951553019503499362"
     },
     "user_tz": 240
    },
    "id": "rAojsEn8-owW",
    "outputId": "f7743a66-2e02-4d57-8d68-108ed5010d1c"
   },
   "outputs": [],
   "source": [
    "for i in range(trials):\n",
    "  text1 = tolang0(text0)\n",
    "  print(text1)\n",
    "  text0 = tolang1(text1)\n",
    "  print(text0)"
   ]
  },
  {
   "cell_type": "code",
   "execution_count": null,
   "metadata": {
    "executionInfo": {
     "elapsed": 14,
     "status": "ok",
     "timestamp": 1761684102492,
     "user": {
      "displayName": "cata comb",
      "userId": "04951553019503499362"
     },
     "user_tz": 240
    },
    "id": "d-7IFzkeayQq"
   },
   "outputs": [],
   "source": [
    "def char_mismatch_count(a: str, b: str) -> int:\n",
    "    la, lb = len(a), len(b)\n",
    "    n = max(la, lb)\n",
    "    mismatches = 0\n",
    "    for i in range(n):\n",
    "        ca = a[i] if i < la else '\\0'\n",
    "        cb = b[i] if i < lb else '\\0'\n",
    "        if ca != cb:\n",
    "            mismatches += 1\n",
    "    return mismatches"
   ]
  },
  {
   "cell_type": "code",
   "execution_count": null,
   "metadata": {
    "colab": {
     "base_uri": "https://localhost:8080/"
    },
    "executionInfo": {
     "elapsed": 18,
     "status": "ok",
     "timestamp": 1761684560903,
     "user": {
      "displayName": "cata comb",
      "userId": "04951553019503499362"
     },
     "user_tz": 240
    },
    "id": "GJC_uyhOj-e0",
    "outputId": "448991f2-33fa-4a5b-9f6e-f285ff9c8046"
   },
   "outputs": [],
   "source": [
    "text0 = \"je mange une pomme\"\n",
    "print(text0)"
   ]
  },
  {
   "cell_type": "code",
   "execution_count": null,
   "metadata": {
    "colab": {
     "base_uri": "https://localhost:8080/",
     "height": 1000
    },
    "executionInfo": {
     "elapsed": 533743,
     "status": "error",
     "timestamp": 1761685390962,
     "user": {
      "displayName": "cata comb",
      "userId": "04951553019503499362"
     },
     "user_tz": 240
    },
    "id": "ViorkeM4jiQ1",
    "outputId": "cbd03a4d-9c3a-49ca-a27a-9e48111c8272"
   },
   "outputs": [],
   "source": [
    "trials = 50\n",
    "seed_text_lang2 = text0\n",
    "\n",
    "english_diffs = []\n",
    "french_diffs  = []\n",
    "\n",
    "prev_en = None\n",
    "prev_fr = seed_text_lang2\n",
    "\n",
    "fig, ax = plt.subplots(figsize=(8, 5))\n",
    "(en_line,) = ax.plot([], [], label=\"Language 0 differences\")\n",
    "(fr_line,) = ax.plot([], [], label=\"Language 1 differences\")\n",
    "ax.set_xlabel(\"# iterations\")\n",
    "ax.set_ylabel(\"# differences\")\n",
    "ax.set_title(\"Ping-pong differences (live)\")\n",
    "ax.grid(True, alpha=0.3)\n",
    "ax.legend()\n",
    "display(fig, display_id=\"live_plot\")\n",
    "\n",
    "for i in range(1, trials + 1):\n",
    "\n",
    "    en_i = tolang1(prev_fr)\n",
    "    print(en_i)\n",
    "\n",
    "    if prev_en is None:\n",
    "        d_en = 0\n",
    "    else:\n",
    "        d_en = char_mismatch_count(en_i, prev_en)\n",
    "    english_diffs.append(d_en)\n",
    "    prev_en = en_i\n",
    "\n",
    "    fr_i = tolang0(en_i)\n",
    "    print(fr_i)\n",
    "\n",
    "    d_fr = char_mismatch_count(fr_i, prev_fr)\n",
    "    french_diffs.append(d_fr)\n",
    "    prev_fr = fr_i\n",
    "\n",
    "    print(i, d_en, d_fr)\n",
    "\n",
    "    iters = list(range(1, i + 1))\n",
    "    en_line.set_data(iters, english_diffs)\n",
    "    fr_line.set_data(iters, french_diffs)\n",
    "\n",
    "    ax.set_xlim(1, trials)\n",
    "    y_max = max(1, max(english_diffs + french_diffs))\n",
    "    ax.set_ylim(0, y_max * 1.1)\n",
    "\n",
    "    fig.canvas.draw()\n",
    "    update_display(fig, display_id=\"live_plot\")\n",
    "\n",
    "print(\"EN:\", english_diffs)\n",
    "print(\"FR:\", french_diffs)"
   ]
  }
 ],
 "metadata": {
  "colab": {
   "provenance": [
    {
     "file_id": "1nQAQ6m9MdZdmgTsNGaCICSEJEma1KAFd",
     "timestamp": 1750771810202
    }
   ]
  },
  "kernelspec": {
   "display_name": "Python 3",
   "name": "python3"
  },
  "language_info": {
   "name": "python"
  }
 },
 "nbformat": 4,
 "nbformat_minor": 0
}
