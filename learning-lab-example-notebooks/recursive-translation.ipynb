{
 "cells": [
  {
   "cell_type": "markdown",
   "metadata": {
    "id": "g6NeYVCF7OMP"
   },
   "source": [
    "## Setup\n",
    "\n",
    "\n",
    "*   Perform imports and installs\n",
    "*   Retrieve OpenAI API key\n",
    "*   Define JSON format for output of translation text completion\n",
    "\n"
   ]
  },
  {
   "cell_type": "code",
   "execution_count": null,
   "metadata": {
    "colab": {
     "base_uri": "https://localhost:8080/"
    },
    "executionInfo": {
     "elapsed": 20653,
     "status": "ok",
     "timestamp": 1755535103031,
     "user": {
      "displayName": "Madeleine Woods",
      "userId": "13804076805150168594"
     },
     "user_tz": 240
    },
    "id": "bGsGEclV9jpW",
    "outputId": "6d6bc804-c945-4c95-f55c-86932c3bc5e0"
   },
   "outputs": [],
   "source": [
    "!pip install openai pyairtable"
   ]
  },
  {
   "cell_type": "code",
   "execution_count": null,
   "metadata": {
    "id": "u4xhka_v9qyJ"
   },
   "outputs": [],
   "source": [
    "import openai, json\n",
    "from openai import OpenAI\n",
    "from pydantic import BaseModel\n",
    "\n",
    "from google.colab import userdata\n",
    "openai.api_key = userdata.get(\"OPENAI_API_KEY\")\n",
    "\n",
    "class output(BaseModel):\n",
    "  text: str"
   ]
  },
  {
   "cell_type": "markdown",
   "metadata": {
    "id": "3yitSUOD7YHY"
   },
   "source": [
    "## Take user input\n",
    "\n",
    "\n",
    "*   Text to translate and output language is hardcoded\n",
    "\n"
   ]
  },
  {
   "cell_type": "code",
   "execution_count": null,
   "metadata": {
    "id": "UpRJKURG-ECu"
   },
   "outputs": [],
   "source": [
    "inputtext = \"\"\"엄마 걱정\n",
    "기형도\n",
    "열무 삼십 단을 이고\n",
    "시장에 간 우리 엄마\n",
    "안 오시네, 해는 시든 지 오래\n",
    "나는 찬밥처럼 방에 담겨\n",
    "아무리 천천히 숙제를 해도\n",
    "엄마 안 오시네, 배춧잎 같은 발소리 타박타박\n",
    "안 들리네, 어둡고 무서워\n",
    "금간 창 틈으로 고요히 빗소리\n",
    "빈 방에 혼자 엎드려 훌쩍거리던\n",
    "아주 먼 옛날\n",
    "지금도 내 눈시울을 뜨겁게 하는\n",
    "그 시절, 내 유년의 윗목\"\"\"\n",
    "\n",
    "inputlanguage = \"Korean\"\n",
    "outputlanguage = \"English\"\n",
    "\n",
    "system_prompt = \"You are a native speaker, who pays attention to translational nuance.\""
   ]
  },
  {
   "cell_type": "markdown",
   "metadata": {
    "id": "InKRWiDl742t"
   },
   "source": [
    "## Translation via text completion\n",
    "* Perform text completion\n",
    "* Print results"
   ]
  },
  {
   "cell_type": "code",
   "execution_count": null,
   "metadata": {
    "colab": {
     "base_uri": "https://localhost:8080/"
    },
    "executionInfo": {
     "elapsed": 4815,
     "status": "ok",
     "timestamp": 1755535130065,
     "user": {
      "displayName": "Madeleine Woods",
      "userId": "13804076805150168594"
     },
     "user_tz": 240
    },
    "id": "HJVrvF2W9b1q",
    "outputId": "59e8823e-7d60-4bf4-86c7-2d031c864330"
   },
   "outputs": [],
   "source": [
    "client = OpenAI(api_key=openai.api_key)\n",
    "\n",
    "def translatebasic(outputlang, inputtext, systemprompt):\n",
    "    response = client.responses.create(\n",
    "        model=\"gpt-4.1\",\n",
    "        input=f\"Translate the following text to {outputlang}, keeping in mind the following instructions: {systemprompt}. Text: {inputtext}. ONLY RETURN THE TRANSLATION. ONLY THE TEXT-- do not thank me or ask questions- only text.\",\n",
    "    )\n",
    "    final = response.output_text\n",
    "    return(final)\n",
    "\n",
    "translated_text = translatebasic(outputlanguage, inputtext, system_prompt)\n",
    "print(translated_text)"
   ]
  },
  {
   "cell_type": "code",
   "execution_count": null,
   "metadata": {
    "colab": {
     "base_uri": "https://localhost:8080/"
    },
    "executionInfo": {
     "elapsed": 38185,
     "status": "ok",
     "timestamp": 1755535171744,
     "user": {
      "displayName": "Madeleine Woods",
      "userId": "13804076805150168594"
     },
     "user_tz": 240
    },
    "id": "MXKIe2cpw9nM",
    "outputId": "a41445e7-1fcb-4823-e526-c1f7323fdbb6"
   },
   "outputs": [],
   "source": [
    "num_rounds = 3\n",
    "\n",
    "\n",
    "def opposite_prompt(text: str, lang: str) -> str:\n",
    "    \"\"\"\n",
    "    Return the semantic opposite of `text` (still in `lang`).\n",
    "    \"\"\"\n",
    "    resp = client.responses.create(\n",
    "        model=\"gpt-4o\",\n",
    "        input=[\n",
    "            {\"role\": \"system\",\n",
    "             \"content\": \"Provide the semantic opposite of the user's text. \"\n",
    "                        \"Return ONLY the opposite—no commentary.\"},\n",
    "            {\"role\": \"user\", \"content\": text},\n",
    "        ],\n",
    "    )\n",
    "    return resp.output_text.strip()\n",
    "\n",
    "step_text = translatebasic(\n",
    "    outputlanguage,\n",
    "    inputtext,\n",
    "    \"You can speak every language as a native perfectly.\"\n",
    ")\n",
    "print(\"ROUND 0  (inputlanguage → outputlanguage)\\n\")\n",
    "print(step_text, \"\\n\")\n",
    "\n",
    "for r in range(1, num_rounds + 1):\n",
    "    back_to_input = translatebasic(\n",
    "        inputlanguage,\n",
    "        step_text,\n",
    "        \"Translate accurately, no extra words.\"\n",
    "    )\n",
    "\n",
    "    opposite_in_input = opposite_prompt(back_to_input, inputlanguage)\n",
    "    print(f\"ROUND {r}a  ➜  opposite in {inputlanguage}\\n\")\n",
    "    print(opposite_in_input, \"\\n\")\n",
    "\n",
    "    step_text = translatebasic(\n",
    "        outputlanguage,\n",
    "        opposite_in_input,\n",
    "        \"Translate accurately, no extra words.\"\n",
    "    )\n",
    "    print(f\"ROUND {r}b  ➜  back-translated to {outputlanguage}\\n\")\n",
    "    print(step_text, \"\\n\")"
   ]
  }
 ],
 "metadata": {
  "colab": {
   "provenance": [
    {
     "file_id": "1qH5VSBHCZ40mDmmsMA16HBdH5VFrG421",
     "timestamp": 1750771471203
    },
    {
     "file_id": "1jWWC0n5GkQC0qaK49g9KTjskcxHErRoG",
     "timestamp": 1730831028645
    }
   ]
  },
  "kernelspec": {
   "display_name": "Python 3",
   "name": "python3"
  },
  "language_info": {
   "name": "python"
  }
 },
 "nbformat": 4,
 "nbformat_minor": 0
}
